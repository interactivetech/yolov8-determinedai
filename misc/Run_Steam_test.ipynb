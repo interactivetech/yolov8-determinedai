{
 "cells": [
  {
   "cell_type": "markdown",
   "id": "89505ac0-c9b5-4372-97b3-e5860954afb4",
   "metadata": {},
   "source": [
    "# Real Time Object Detection Demo with Machine Learning Development Environment"
   ]
  },
  {
   "cell_type": "code",
   "execution_count": 1,
   "id": "acf36be7-41de-4bd5-8d13-154767f86fe2",
   "metadata": {},
   "outputs": [],
   "source": [
    "from ipywidgets import Video, Image\n",
    "from IPython.display import display\n",
    "import numpy as np\n",
    "import cv2\n",
    "import base64"
   ]
  },
  {
   "cell_type": "code",
   "execution_count": 2,
   "id": "4d60fda8-93b8-4dd2-a5dc-ad73d3d1fbf9",
   "metadata": {},
   "outputs": [
    {
     "name": "stdout",
     "output_type": "stream",
     "text": [
      "ls: cannot access '/root/Downloads': No such file or directory\n"
     ]
    }
   ],
   "source": [
    "!ls ~/Downloads"
   ]
  },
  {
   "cell_type": "code",
   "execution_count": 20,
   "id": "5ef4ebeb-dcf6-45fb-a876-965bab6bfd93",
   "metadata": {},
   "outputs": [
    {
     "data": {
      "application/vnd.jupyter.widget-view+json": {
       "model_id": "8ad5a8b60d2b4285acf99aa9d7b6bd66",
       "version_major": 2,
       "version_minor": 0
      },
      "text/plain": [
       "Video(value=b'\\x00\\x00\\x00\\x18ftypmp42\\x00\\x00\\x00\\x00isommp42\\x00\\x00+\\xadmoov\\x00\\x00\\x00lmvhd...')"
      ]
     },
     "execution_count": 20,
     "metadata": {},
     "output_type": "execute_result"
    }
   ],
   "source": [
    "video = Video.from_file('./../out.mp4')\n",
    "video"
   ]
  },
  {
   "cell_type": "code",
   "execution_count": 21,
   "id": "3065f986-754a-400b-b998-2396f80ec1ea",
   "metadata": {},
   "outputs": [
    {
     "name": "stderr",
     "output_type": "stream",
     "text": [
      "[ERROR:0@1011.719] global cap_ffmpeg_impl.hpp:3018 open Could not find encoder for codec_id=27, error: Encoder not found\n",
      "[ERROR:0@1011.719] global cap_ffmpeg_impl.hpp:3093 open VIDEOIO/FFMPEG: Failed to initialize VideoWriter\n"
     ]
    }
   ],
   "source": [
    "cap = cv2.VideoCapture('./../Big.Buck.Bunny.mp4')\n",
    "\n",
    "frames = []\n",
    "\n",
    "while(1):\n",
    "    try:\n",
    "        _, frame = cap.read()\n",
    "        # print(frame.shape)\n",
    "        fgmask = cv2.Canny(frame, 100, 100)\n",
    "\n",
    "        mask = fgmask > 100\n",
    "        frame[mask, :] = 0\n",
    "\n",
    "        frames.append(frame)\n",
    "    except Exception:\n",
    "        break\n",
    "\n",
    "width = int(cap.get(3))\n",
    "height = int(cap.get(4))\n",
    "\n",
    "filename = './../out.mp4'\n",
    "\n",
    "fourcc = cv2.VideoWriter_fourcc(*'avc1')\n",
    "writer = cv2.VideoWriter(filename, fourcc, 25, (width, height))\n",
    "\n",
    "for frame in frames:\n",
    "    # print(frame.shape)\n",
    "    writer.write(frame)\n",
    "\n",
    "cap.release()\n",
    "writer.release()\n",
    "\n",
    "with open(filename, 'rb') as f:\n",
    "    video.value = f.read()"
   ]
  },
  {
   "cell_type": "code",
   "execution_count": 10,
   "id": "528cd4f4-af30-442f-97a3-3ae396613f07",
   "metadata": {},
   "outputs": [],
   "source": [
    "from ipywidgets import Widget\n",
    "Widget.close_all()"
   ]
  },
  {
   "cell_type": "code",
   "execution_count": 29,
   "id": "8373c942-b55d-4b56-ba93-d0e8b8d499bf",
   "metadata": {},
   "outputs": [
    {
     "name": "stdout",
     "output_type": "stream",
     "text": [
      "%pylab is deprecated, use %matplotlib inline and import the required libraries.\n",
      "Populating the interactive namespace from numpy and matplotlib\n"
     ]
    }
   ],
   "source": [
    "# Import the required modules\n",
    "%pylab inline \n",
    "import cv2\n",
    "from IPython.display import clear_output"
   ]
  },
  {
   "cell_type": "code",
   "execution_count": 30,
   "id": "cdcfd3ca-343f-4284-89bd-f16cd2848d99",
   "metadata": {},
   "outputs": [
    {
     "name": "stdout",
     "output_type": "stream",
     "text": [
      "Released Video Resource\n"
     ]
    }
   ],
   "source": [
    "# Grab the input device, in this case the webcam\n",
    "# You can also give path to the video file\n",
    "vid = cv2.VideoCapture(\"./../Big.Buck.Bunny.mp4\")\n",
    "\n",
    "# Put the code in try-except statements\n",
    "# Catch the keyboard exception and \n",
    "# release the camera device and \n",
    "# continue with the rest of code.\n",
    "try:\n",
    "    while(True):\n",
    "        # Capture frame-by-frame\n",
    "        ret, frame = vid.read()\n",
    "        if not ret:\n",
    "            # Release the Video Device if ret is false\n",
    "            vid.release()\n",
    "            # Message to be displayed after releasing the device\n",
    "            print(\"Released Video Resource\")\n",
    "            break\n",
    "        # Convert the image from OpenCV BGR format to matplotlib RGB format\n",
    "        # to display the image\n",
    "        frame = cv2.cvtColor(frame, cv2.COLOR_BGR2RGB)\n",
    "        # Turn off the axis\n",
    "        axis('off')\n",
    "        # Title of the window\n",
    "        title(\"Input Stream\")\n",
    "        # Display the frame\n",
    "        imshow(frame)\n",
    "        show()\n",
    "        # Display the frame until new frame is available\n",
    "        clear_output(wait=True)\n",
    "except KeyboardInterrupt:\n",
    "    # Release the Video Device\n",
    "    vid.release()\n",
    "    # Message to be displayed after releasing the device\n",
    "    print(\"Released Video Resource\")\n",
    "    "
   ]
  },
  {
   "cell_type": "code",
   "execution_count": null,
   "id": "31a99123-d708-4816-a269-b1e302a3ad4e",
   "metadata": {},
   "outputs": [],
   "source": []
  }
 ],
 "metadata": {
  "kernelspec": {
   "display_name": "Python 3 (ipykernel)",
   "language": "python",
   "name": "python3"
  },
  "language_info": {
   "codemirror_mode": {
    "name": "ipython",
    "version": 3
   },
   "file_extension": ".py",
   "mimetype": "text/x-python",
   "name": "python",
   "nbconvert_exporter": "python",
   "pygments_lexer": "ipython3",
   "version": "3.8.17"
  }
 },
 "nbformat": 4,
 "nbformat_minor": 5
}
