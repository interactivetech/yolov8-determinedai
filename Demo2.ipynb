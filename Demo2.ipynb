{
 "cells": [
  {
   "cell_type": "markdown",
   "id": "970da1ad-2f4a-4c43-aecc-a69a5f60003e",
   "metadata": {},
   "source": [
    "# Demo 2"
   ]
  },
  {
   "cell_type": "code",
   "execution_count": null,
   "id": "4830737f-c06f-401c-a4ea-702f8316a1fb",
   "metadata": {},
   "outputs": [],
   "source": [
    "import cv2\n",
    "import numpy as np\n",
    "import torch\n",
    "from PIL import Image, ImageOps\n",
    "\n",
    "from ultralytics import YOLO"
   ]
  },
  {
   "cell_type": "markdown",
   "id": "7a1bd7ec-6f83-44b6-96c3-e69b89365bca",
   "metadata": {},
   "source": [
    "## Run Pretrained Model"
   ]
  },
  {
   "cell_type": "code",
   "execution_count": null,
   "id": "95f99135-826d-4b1b-9e20-121fc9eafd70",
   "metadata": {},
   "outputs": [],
   "source": [
    "model = YOLO('yolov8l.pt')"
   ]
  },
  {
   "cell_type": "code",
   "execution_count": null,
   "id": "66a23345-c1f8-4355-ac50-93180e02b2f1",
   "metadata": {},
   "outputs": [],
   "source": [
    "IMG_PATH='/datasets/tiger_team_dataset/20230825_091929.jpg'#image of helicopter\n",
    "im = Image.open(IMG_PATH)\n",
    "im = ImageOps.exif_transpose(im)\n",
    "im2 = im.resize((320,320))"
   ]
  },
  {
   "cell_type": "markdown",
   "id": "3b865132-bdd5-4d22-ad17-1fdc1c61acbe",
   "metadata": {},
   "source": [
    "### Here is the input image"
   ]
  },
  {
   "cell_type": "code",
   "execution_count": null,
   "id": "fe44506a-5077-4004-8554-2f96e8291522",
   "metadata": {},
   "outputs": [],
   "source": [
    "im2"
   ]
  },
  {
   "cell_type": "code",
   "execution_count": null,
   "id": "da078167-2684-4209-bf1d-95e45bb8e229",
   "metadata": {},
   "outputs": [],
   "source": [
    "results = model(source=np.array(im2), save=False, show=False,verbose=True,imgsz=320)"
   ]
  },
  {
   "cell_type": "code",
   "execution_count": null,
   "id": "5e0b632c-b157-45eb-afcf-4e0b1ba98189",
   "metadata": {},
   "outputs": [],
   "source": [
    "for result in results:\n",
    "        # Detection\n",
    "        print(result.boxes.xyxy)   # box with xyxy format, (N, 4))\n",
    "        print(result.boxes.conf)   # confidence score, (N, 1)\n",
    "        print(result.boxes.cls)    # cls, (N, 1)\n",
    "result = result.cpu() # Each result is composed of torch.Tensor by default\n",
    "result = result.numpy()"
   ]
  },
  {
   "cell_type": "markdown",
   "id": "4414b827-3355-4ac3-8012-141b9a400409",
   "metadata": {},
   "source": [
    "Here we will visualize the result"
   ]
  },
  {
   "cell_type": "code",
   "execution_count": null,
   "id": "9d7880e7-7505-4d26-91b9-c4bda31eb620",
   "metadata": {},
   "outputs": [],
   "source": [
    "res = Image.fromarray(result[0].plot())\n",
    "res"
   ]
  },
  {
   "cell_type": "markdown",
   "id": "434a5949-0982-48ae-859d-c71c1c442744",
   "metadata": {},
   "source": [
    "# Finetune Model with Determined"
   ]
  },
  {
   "cell_type": "code",
   "execution_count": null,
   "id": "07860b0c-1789-4db1-af82-27dac512fa3f",
   "metadata": {},
   "outputs": [],
   "source": [
    "from PIL import Image,ImageOps\n",
    "IMG_PATH='/datasets/tiger_team_dataset/20230825_091929.jpg'#image of helicopter\n",
    "ImageOps.exif_transpose(Image.open(IMG_PATH)).save('test.jpg', 'JPEG', subsampling=0, quality=100)"
   ]
  },
  {
   "cell_type": "code",
   "execution_count": null,
   "id": "a79cc51f-1359-4bc1-b195-40cd4a3c2371",
   "metadata": {},
   "outputs": [],
   "source": [
    "from determined.experimental import client as det"
   ]
  },
  {
   "cell_type": "code",
   "execution_count": null,
   "id": "4a63275c-81a9-4d58-aa4a-03f64bb53427",
   "metadata": {},
   "outputs": [],
   "source": [
    "exp = det.create_experiment(config=\"./configs/run-helicopter.yaml\", model_dir=\"./\")\n",
    "print(f\"started experiment {exp.id}\")\n",
    "\n",
    "# Wait for experiment to complete and print exit status\n",
    "exit_status = exp.wait()\n",
    "print(f\"experiment completed with status {exit_status}\")"
   ]
  },
  {
   "cell_type": "markdown",
   "id": "799f7772-c3ef-43d8-9d68-dc2c66888391",
   "metadata": {},
   "source": [
    "# Run prediction again with Finetuned model"
   ]
  },
  {
   "cell_type": "code",
   "execution_count": null,
   "id": "4df7d640-a65e-403a-809a-7b47e97d7984",
   "metadata": {},
   "outputs": [],
   "source": [
    "!sudo chmod -R a+rwx /checkpoints/"
   ]
  },
  {
   "cell_type": "code",
   "execution_count": null,
   "id": "cfee6fab-75aa-42a6-ab24-5320e43a09d5",
   "metadata": {},
   "outputs": [],
   "source": [
    "model = YOLO('/checkpoints/runs/test_run2/weights/best.pt')\n",
    "IMG_PATH='/datasets/tiger_team_dataset/20230825_091929.jpg'#image of helicopter\n",
    "im = Image.open(IMG_PATH)\n",
    "im = ImageOps.exif_transpose(im)\n",
    "im2 = im.resize((320,320))\n",
    "results = model(source=np.array(im2), save=False, show=False,verbose=True,imgsz=320)\n",
    "res = Image.fromarray(results[0].plot())\n",
    "res"
   ]
  },
  {
   "cell_type": "code",
   "execution_count": null,
   "id": "892ca606-c56e-4acf-866e-59b066ad64b9",
   "metadata": {},
   "outputs": [],
   "source": [
    "!bash run_trained_helicopter_model.sh"
   ]
  },
  {
   "cell_type": "code",
   "execution_count": null,
   "id": "c51345bd-edd4-429b-9e73-df67da3397b6",
   "metadata": {},
   "outputs": [],
   "source": [
    "# run on youtube recording\n",
    "!bash run_trained_helicopter_model-vid.sh"
   ]
  },
  {
   "cell_type": "code",
   "execution_count": null,
   "id": "c3216f93-2636-423f-abe2-4950ad1677a7",
   "metadata": {},
   "outputs": [],
   "source": []
  }
 ],
 "metadata": {
  "kernelspec": {
   "display_name": "Python 3 (ipykernel)",
   "language": "python",
   "name": "python3"
  },
  "language_info": {
   "codemirror_mode": {
    "name": "ipython",
    "version": 3
   },
   "file_extension": ".py",
   "mimetype": "text/x-python",
   "name": "python",
   "nbconvert_exporter": "python",
   "pygments_lexer": "ipython3",
   "version": "3.10.12"
  }
 },
 "nbformat": 4,
 "nbformat_minor": 5
}
